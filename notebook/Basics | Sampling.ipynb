{
 "cells": [
  {
   "cell_type": "markdown",
   "metadata": {},
   "source": [
    "# Sampling Basics\n",
    "\n",
    "Explore the 2 basics sampling methods of `multivar_hypergeom` by soving some simple problems in statistics. Both of the problems will use the following scenario:\n",
    "\n",
    "Say you are given a bag with different colored chips:\n",
    "\n",
    "|Chip Color | Quantity|\n",
    "|:---|:---|\n",
    "|Red | 20 |\n",
    "|Blue | 10|\n",
    "|Yellow| 15|\n",
    "|Green| 30 |"
   ]
  },
  {
   "cell_type": "code",
   "execution_count": 1,
   "metadata": {},
   "outputs": [],
   "source": [
    "import numpy as np\n",
    "from multivar_hypergeom.multivar_hypergeom import MultivarHypergeom as MV"
   ]
  },
  {
   "cell_type": "markdown",
   "metadata": {},
   "source": [
    "## Problem 1\n",
    "\n",
    "Drawing 1 chip at a time, what are the chances you draw a yellow chip, a blue chip, and a green chip in that order?\n",
    "\n",
    "To solve the problem ***experimentally***, we can simulate many samples and estimate the likelihood of getting these 3 chips in the given order.\n",
    "\n",
    "1. Learn how to take a sample using the library.\n",
    "\n",
    "> Once you create a distribution object, simply call its `sample1()` method and the function will return the type of the object sampled. \n",
    "> \n",
    "> Run the code below several times to see how the sample varies."
   ]
  },
  {
   "cell_type": "code",
   "execution_count": 7,
   "metadata": {},
   "outputs": [
    {
     "name": "stdout",
     "output_type": "stream",
     "text": [
      "Blue\n"
     ]
    }
   ],
   "source": [
    "# Create a distribution object\n",
    "ex_dist1 = MV({'Red': 20, 'Blue':10, 'Yellow':15, 'Green':30})\n",
    "# Draw a sample of 4\n",
    "sample = ex_dist1.sample1()\n",
    "print(sample)"
   ]
  },
  {
   "cell_type": "markdown",
   "metadata": {},
   "source": [
    "2. How do we sample repeatedly?\n",
    "\n",
    "> Once you create a distribution object, you can sample from it repeatedly. \n",
    ">\n",
    "> Run the code below to see what happens when we sample from the same distribution many times."
   ]
  },
  {
   "cell_type": "code",
   "execution_count": 9,
   "metadata": {},
   "outputs": [
    {
     "name": "stdout",
     "output_type": "stream",
     "text": [
      "Failed after 75 samples\n",
      "Types: ['Red', 'Blue', 'Yellow', 'Green'] \n",
      "Counts: [0, 0, 0, 0] \n",
      "Total: 0\n"
     ]
    }
   ],
   "source": [
    "# Create a distribution object\n",
    "ex_dist2 = MV({'Red': 20, 'Blue':10, 'Yellow':15, 'Green':30})\n",
    "\n",
    "\n",
    "# Try to sample constantly from the distribution\n",
    "num_samples = 0\n",
    "while True:\n",
    "    try:\n",
    "        sample = ex_dist2.sample1()\n",
    "        num_samples += 1\n",
    "    except:\n",
    "        print('Failed after {} samples'.format(num_samples))\n",
    "        # Uncomment line below after running the code once\n",
    "        # print(ex_dist2)\n",
    "        break"
   ]
  },
  {
   "cell_type": "markdown",
   "metadata": {},
   "source": [
    "> The code failed after 75 samples. Why did this happen? Run the code again with line 14 uncommented.\n",
    ">\n",
    "> By printing the distribution, you should notice there are no objects left. When we call `sample1()` repeatedly on the same distribution, the distribution itself is changing because we sample ***without replacement***.\n",
    "\n",
    "3. How do we repeatedly sample from the same conditions?\n",
    "\n",
    "> To solve our problem, we cannot just take samples from the distribution until it is empty because that is not the question we are given. Instead, we need to repeatedly take a sequence of 3 samples from the distribution in its initial state. \n",
    ">\n",
    "> To do this, we have 2 options:\n",
    "  - Repeatedly create a distribution and take 3 samples.\n",
    "  - Create a distribution distribution and repeatedly sample then reset the distribution\n",
    "> The second option is much more efficient, so let's try it."
   ]
  },
  {
   "cell_type": "code",
   "execution_count": 10,
   "metadata": {},
   "outputs": [
    {
     "name": "stdout",
     "output_type": "stream",
     "text": [
      "['Blue', 'Blue', 'Yellow']\n",
      "['Yellow', 'Red', 'Blue']\n",
      "['Blue', 'Green', 'Green']\n",
      "['Blue', 'Red', 'Yellow']\n",
      "['Yellow', 'Green', 'Blue']\n",
      "['Green', 'Yellow', 'Blue']\n",
      "['Blue', 'Blue', 'Green']\n",
      "['Green', 'Blue', 'Red']\n",
      "['Green', 'Blue', 'Red']\n",
      "['Green', 'Red', 'Green']\n",
      "['Green', 'Red', 'Green']\n",
      "['Green', 'Yellow', 'Red']\n",
      "['Red', 'Blue', 'Green']\n",
      "['Green', 'Green', 'Red']\n",
      "['Blue', 'Red', 'Green']\n",
      "['Green', 'Green', 'Yellow']\n",
      "['Blue', 'Yellow', 'Yellow']\n",
      "['Blue', 'Green', 'Red']\n",
      "['Red', 'Yellow', 'Red']\n",
      "['Green', 'Green', 'Yellow']\n",
      "Types: ['Red', 'Blue', 'Yellow', 'Green'] \n",
      "Counts: [20, 10, 15, 30] \n",
      "Total: 75\n"
     ]
    }
   ],
   "source": [
    "# Create a distribution object\n",
    "ex_dist3 = MV({'Red': 20, 'Blue':10, 'Yellow':15, 'Green':30})\n",
    "\n",
    "# Take 20 samples, reset the dist each time\n",
    "for i in range(20):\n",
    "    sample = []\n",
    "    for i in range(3):\n",
    "        sample.append(ex_dist3.sample1())\n",
    "    print(sample)\n",
    "    ex_dist3.reset()\n",
    "\n",
    "# After sampling, check the status of our distribution\n",
    "print(ex_dist3)"
   ]
  },
  {
   "cell_type": "markdown",
   "metadata": {},
   "source": [
    "> We successfully took 20 sequences of 3 samples from the distribution under the same conditions!\n",
    "\n",
    "4. Estimating the solution by sampling.\n",
    "\n",
    "> Now we have the tools to take many sequences of samples from the given distribution and determine how many sequences meet the desired condition. We can then estimate the probability of this event by simply computing how many of our samples meet the condition out of the total number of samples."
   ]
  },
  {
   "cell_type": "code",
   "execution_count": 13,
   "metadata": {},
   "outputs": [
    {
     "name": "stdout",
     "output_type": "stream",
     "text": [
      "Probability of 1 of each type:  0.01\n"
     ]
    }
   ],
   "source": [
    "# Create a distribution object\n",
    "ex_dist4 = MV({'Red': 20, 'Blue':10, 'Yellow':15, 'Green':30})\n",
    "\n",
    "# Create variables to hold results\n",
    "num_samples = 100\n",
    "good_samples = 0\n",
    "condition = ['Yellow', 'Blue', 'Green']\n",
    "\n",
    "# Iterate through many trials\n",
    "for i in range(num_samples):\n",
    "    # Take 3 samples\n",
    "    sample = []\n",
    "    for i in range(3):\n",
    "        sample.append(ex_dist4.sample1())\n",
    "    # Check the condition\n",
    "    if sample == condition:\n",
    "        good_samples += 1\n",
    "    # Reset the distribution\n",
    "    ex_dist4.reset()\n",
    "    \n",
    "# Compute probability\n",
    "prob = good_samples/num_samples\n",
    "print('Probability of 1 of each type: ', prob)"
   ]
  },
  {
   "cell_type": "markdown",
   "metadata": {},
   "source": [
    "> If you run the code above several times, you will notice the probability can change significantly between executions.\n",
    ">\n",
    "> To get more accuracy, we increase the number of trials (`num_samples`).\n",
    "\n",
    "5. Imporving accuracy.\n",
    "\n",
    "> Try increasing the number of trials in the code below to get an improved estimate of the probability.\n",
    ">\n",
    "> ***Hint:*** *The true probability is roughly 0.011*"
   ]
  },
  {
   "cell_type": "code",
   "execution_count": 15,
   "metadata": {},
   "outputs": [
    {
     "name": "stdout",
     "output_type": "stream",
     "text": [
      "Probability of 1 of each type:  0.0111\n"
     ]
    }
   ],
   "source": [
    "# Create a distribution object\n",
    "ex_dist5 = MV({'Red': 20, 'Blue':10, 'Yellow':15, 'Green':30})\n",
    "\n",
    "# Create variables to hold results\n",
    "num_samples = 100\n",
    "good_samples = 0\n",
    "condition = ['Yellow', 'Blue', 'Green']\n",
    "\n",
    "# Iterate through many trials\n",
    "for i in range(num_samples):\n",
    "    # Take 3 samples\n",
    "    sample = []\n",
    "    for i in range(3):\n",
    "        sample.append(ex_dist5.sample1())\n",
    "    # Check the condition\n",
    "    if sample == condition:\n",
    "        good_samples += 1\n",
    "    # Reset the distribution\n",
    "    ex_dist5.reset()\n",
    "    \n",
    "# Compute probability\n",
    "prob = good_samples/num_samples\n",
    "print('Probability of 1 of each type: ', prob)"
   ]
  },
  {
   "cell_type": "markdown",
   "metadata": {},
   "source": [
    "## Problem 2\n",
    "\n",
    "What are the chances you get one of each color in a sample of 4?\n",
    "\n",
    "To solve the problem ***experimentally***, we can simulate many samples of size 4 and estimate the likelihood of getting a sample with one of each color.\n",
    "\n",
    "1. Learn how to take a sample using the library. \n",
    "\n",
    "> Once you create a distribution object, simply call its `sample()` method with the given sample size and the function will return an array `[c1, c2, ... cn]` where `ci` represents the number of objects of type `i` in the sample. \n",
    "> \n",
    "> Run the code below several times to see how the sample varies.\n"
   ]
  },
  {
   "cell_type": "code",
   "execution_count": 16,
   "metadata": {},
   "outputs": [
    {
     "name": "stdout",
     "output_type": "stream",
     "text": [
      "[1 0 0 3]\n"
     ]
    }
   ],
   "source": [
    "# Create a distribution object\n",
    "ex_dist6 = MV({'Red': 20, 'Blue':10, 'Yellow':15, 'Green':30})\n",
    "# Draw a sample of 4\n",
    "sample = ex_dist6.sample(4)\n",
    "print(sample)"
   ]
  },
  {
   "cell_type": "markdown",
   "metadata": {},
   "source": [
    "2. How do we sample repeatedly?\n",
    "\n",
    "> Once you create a distribution object, you can sample from it repeatedly. \n",
    ">\n",
    "> Run the code below to see what happens when we sample from the same distribution many times."
   ]
  },
  {
   "cell_type": "code",
   "execution_count": 17,
   "metadata": {},
   "outputs": [
    {
     "name": "stdout",
     "output_type": "stream",
     "text": [
      "Failed after 18 samples\n"
     ]
    }
   ],
   "source": [
    "# Create a distribution object\n",
    "ex_dist7 = MV({'Red': 20, 'Blue':10, 'Yellow':15, 'Green':30})\n",
    "\n",
    "\n",
    "# Try to sample constantly from the distribution\n",
    "num_samples = 0\n",
    "while True:\n",
    "    try:\n",
    "        sample = ex_dist7.sample(4)\n",
    "        num_samples += 1\n",
    "    except:\n",
    "        print('Failed after {} samples'.format(num_samples))\n",
    "        # Uncomment line below after running the code once\n",
    "        # print(ex_dist2)\n",
    "        break"
   ]
  },
  {
   "cell_type": "markdown",
   "metadata": {},
   "source": [
    "> The code failed after 18 samples. Why did this happen? Run the code again with line 14 uncommented.\n",
    ">\n",
    "> By printing the distribution, you should notice there are only 3 objects left. When we call `sample()` repeatedly on the same distribution, the distribution itself is changing because we sample ***without replacement***.\n",
    "\n",
    "3. How do we repeatedly sample from the same conditions?\n",
    "\n",
    "> To solve our problem, we cannot just take samples of size 4 from the distribution until it is empty because that is not the question we are given. Instead, we need to repeatedly take samples of size 4 from the distribution in its initial state. \n",
    ">\n",
    "> To do this, we have 2 options:\n",
    "  - Repeatedly create a distribution and take a sample of size 4\n",
    "  - Create a distribution distribution and repeatedly sample then reset the distribution\n",
    "> The second option is much more efficient, so let's try it."
   ]
  },
  {
   "cell_type": "code",
   "execution_count": 18,
   "metadata": {},
   "outputs": [
    {
     "name": "stdout",
     "output_type": "stream",
     "text": [
      "[1 0 0 3]\n",
      "[2 0 2 0]\n",
      "[1 0 1 2]\n",
      "[2 1 1 0]\n",
      "[2 0 0 2]\n",
      "[1 0 1 2]\n",
      "[2 1 0 1]\n",
      "[0 1 1 2]\n",
      "[0 0 1 3]\n",
      "[0 0 3 1]\n",
      "[0 1 0 3]\n",
      "[0 1 1 2]\n",
      "[0 2 0 2]\n",
      "[1 0 2 1]\n",
      "[1 0 0 3]\n",
      "[2 0 1 1]\n",
      "[1 0 2 1]\n",
      "[0 1 1 2]\n",
      "[1 0 1 2]\n",
      "[1 2 0 1]\n",
      "Types: ['Red', 'Blue', 'Yellow', 'Green'] \n",
      "Counts: [20, 10, 15, 30] \n",
      "Total: 75\n"
     ]
    }
   ],
   "source": [
    "# Create a distribution object\n",
    "ex_dist8 = MV({'Red': 20, 'Blue':10, 'Yellow':15, 'Green':30})\n",
    "\n",
    "# Take 20 samples, reset the dist each time\n",
    "for i in range(20):\n",
    "    sample = ex_dist8.sample(4)\n",
    "    print(sample)\n",
    "    ex_dist8.reset()\n",
    "\n",
    "# After sampling, check the status of our distribution\n",
    "print(ex_dist8)"
   ]
  },
  {
   "cell_type": "markdown",
   "metadata": {},
   "source": [
    "> We successfully took 20 samples from the distribution under the same conditions!\n",
    "\n",
    "4. Estimating the solution by sampling.\n",
    "\n",
    "> Now we have the tools to take many samples of 4 from the given distribution and determine how many samples meet the desired condition. We can then estimate the probability of this event by simply computing how many of our samples meet the condition out of the total number of samples."
   ]
  },
  {
   "cell_type": "code",
   "execution_count": 20,
   "metadata": {},
   "outputs": [
    {
     "name": "stdout",
     "output_type": "stream",
     "text": [
      "Probability of 1 of each type:  0.05\n"
     ]
    }
   ],
   "source": [
    "# Create a distribution object\n",
    "ex_dist9 = MV({'Red': 20, 'Blue':10, 'Yellow':15, 'Green':30})\n",
    "\n",
    "# Create variables to hold results\n",
    "num_samples = 100\n",
    "good_samples = 0\n",
    "condition = np.ones(4)\n",
    "\n",
    "# Iterate through many trials\n",
    "for i in range(num_samples):\n",
    "    # Take a sample of size 4\n",
    "    sample = ex_dist9.sample(4)\n",
    "    # Check the condition\n",
    "    if np.array_equal(sample, condition):\n",
    "        good_samples += 1\n",
    "    # Reset the distribution\n",
    "    ex_dist9.reset()\n",
    "    \n",
    "# Compute probability\n",
    "prob = good_samples/num_samples\n",
    "print('Probability of 1 of each type: ', prob)"
   ]
  },
  {
   "cell_type": "markdown",
   "metadata": {},
   "source": [
    "> If you run the code above several times, you will notice the probability can change significantly between executions.\n",
    ">\n",
    "> To get more accuracy, we increase the number of trials (`num_samples`).\n",
    "\n",
    "5. Imporving accuracy.\n",
    "\n",
    "> Try increasing the number of trials in the code below to get an improved estimate of the probability.\n",
    ">\n",
    "> ***Hint:*** *The true probability is rough 0.074*"
   ]
  },
  {
   "cell_type": "code",
   "execution_count": 21,
   "metadata": {},
   "outputs": [
    {
     "name": "stdout",
     "output_type": "stream",
     "text": [
      "Probability of 1 of each type:  0.04\n"
     ]
    }
   ],
   "source": [
    "# Create a distribution object\n",
    "ex_dist10 = MV({'Red': 20, 'Blue':10, 'Yellow':15, 'Green':30})\n",
    "\n",
    "# Create variables to hold results\n",
    "num_samples = 100\n",
    "good_samples = 0\n",
    "condition = np.ones(4)\n",
    "\n",
    "# Iterate through many trials\n",
    "for i in range(num_samples):\n",
    "    # Take a sample of size 4\n",
    "    sample = ex_dist10.sample(4)\n",
    "    # Check the condition\n",
    "    if np.array_equal(sample, condition):\n",
    "        good_samples += 1\n",
    "    # Reset the distribution\n",
    "    ex_dist10.reset()\n",
    "    \n",
    "# Compute probability\n",
    "prob = good_samples/num_samples\n",
    "print('Probability of 1 of each type: ', prob)"
   ]
  },
  {
   "cell_type": "code",
   "execution_count": null,
   "metadata": {},
   "outputs": [],
   "source": []
  }
 ],
 "metadata": {
  "kernelspec": {
   "display_name": "Python 3",
   "language": "python",
   "name": "python3"
  },
  "language_info": {
   "codemirror_mode": {
    "name": "ipython",
    "version": 3
   },
   "file_extension": ".py",
   "mimetype": "text/x-python",
   "name": "python",
   "nbconvert_exporter": "python",
   "pygments_lexer": "ipython3",
   "version": "3.6.9"
  }
 },
 "nbformat": 4,
 "nbformat_minor": 4
}
